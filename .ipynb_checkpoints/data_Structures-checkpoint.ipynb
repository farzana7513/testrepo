{
 "cells": [
  {
   "cell_type": "markdown",
   "id": "40b65ee3",
   "metadata": {},
   "source": [
    "## data collection methods\n",
    "**- tuple tup1=(1,4,7,2)\n",
    "**- list1=[2,3,'item1']\n",
    "**- distionary d1={\"samosa\":23, \"pakora\":100,\"rolls\":30,\"macronies\":100}\n",
    "**- sets1={3,'food',90,54,0,'city'}\n"
   ]
  },
  {
   "cell_type": "markdown",
   "id": "ec1ae895",
   "metadata": {},
   "source": [
    "## Tuple\n",
    "orderd collection of elements\n",
    "enclosed in ()\n",
    "can be different type elements\n",
    "once element are stored u cant change it"
   ]
  },
  {
   "cell_type": "code",
   "execution_count": 15,
   "id": "76cf2fb3",
   "metadata": {},
   "outputs": [],
   "source": [
    "tup1=(1,4,7,2)"
   ]
  },
  {
   "cell_type": "code",
   "execution_count": 12,
   "id": "9f4cefe6",
   "metadata": {},
   "outputs": [],
   "source": [
    "tu1=(1,4,7)"
   ]
  },
  {
   "cell_type": "code",
   "execution_count": 7,
   "id": "a9c0b6b7",
   "metadata": {},
   "outputs": [
    {
     "data": {
      "text/plain": [
       "tuple"
      ]
     },
     "execution_count": 7,
     "metadata": {},
     "output_type": "execute_result"
    }
   ],
   "source": [
    "type(tu1)"
   ]
  },
  {
   "cell_type": "code",
   "execution_count": 18,
   "id": "3560af95",
   "metadata": {},
   "outputs": [
    {
     "data": {
      "text/plain": [
       "(1, 4, 7, 2, 1, 4, 7, 2, 1, 4, 7, 1, 4, 7, 1, 4, 7)"
      ]
     },
     "execution_count": 18,
     "metadata": {},
     "output_type": "execute_result"
    }
   ],
   "source": [
    "#create same copy of tuple back to back\n",
    "# cant add it value to tuple elements\n",
    "tup1*2+tu1*3\n",
    "\n"
   ]
  },
  {
   "cell_type": "code",
   "execution_count": 14,
   "id": "9026e80b",
   "metadata": {},
   "outputs": [
    {
     "data": {
      "text/plain": [
       "7"
      ]
     },
     "execution_count": 14,
     "metadata": {},
     "output_type": "execute_result"
    }
   ],
   "source": [
    "#finding min and max of tuple\n",
    "max(tu1)\n"
   ]
  },
  {
   "cell_type": "markdown",
   "id": "ac629ae2",
   "metadata": {},
   "source": [
    "## List\n",
    "orderd collection of elements\n",
    "same type of elements\n",
    "enclosed in []\n",
    "mutateable\n",
    "list.count('add element u want to count')"
   ]
  },
  {
   "cell_type": "code",
   "execution_count": 42,
   "id": "f8efdadd",
   "metadata": {},
   "outputs": [],
   "source": [
    "list1=[2,3,'list1']\n"
   ]
  },
  {
   "cell_type": "code",
   "execution_count": 25,
   "id": "ce7d3a40",
   "metadata": {},
   "outputs": [
    {
     "data": {
      "text/plain": [
       "list"
      ]
     },
     "execution_count": 25,
     "metadata": {},
     "output_type": "execute_result"
    }
   ],
   "source": [
    "type(list1)"
   ]
  },
  {
   "cell_type": "code",
   "execution_count": null,
   "id": "99127040",
   "metadata": {},
   "outputs": [],
   "source": []
  },
  {
   "cell_type": "code",
   "execution_count": 26,
   "id": "317e754e",
   "metadata": {},
   "outputs": [
    {
     "data": {
      "text/plain": [
       "[2, 3, 'list1']"
      ]
     },
     "execution_count": 26,
     "metadata": {},
     "output_type": "execute_result"
    }
   ],
   "source": [
    "list1"
   ]
  },
  {
   "cell_type": "code",
   "execution_count": 27,
   "id": "185c56f9",
   "metadata": {},
   "outputs": [
    {
     "data": {
      "text/plain": [
       "3"
      ]
     },
     "execution_count": 27,
     "metadata": {},
     "output_type": "execute_result"
    }
   ],
   "source": [
    "len(list1)"
   ]
  },
  {
   "cell_type": "code",
   "execution_count": 28,
   "id": "f45ee603",
   "metadata": {},
   "outputs": [
    {
     "data": {
      "text/plain": [
       "'list1'"
      ]
     },
     "execution_count": 28,
     "metadata": {},
     "output_type": "execute_result"
    }
   ],
   "source": [
    "list1[2]"
   ]
  },
  {
   "cell_type": "code",
   "execution_count": 29,
   "id": "18f43f52",
   "metadata": {},
   "outputs": [
    {
     "data": {
      "text/plain": [
       "[1, 3, 5, 'ali', 'true', 'codanic', 3.5]"
      ]
     },
     "execution_count": 29,
     "metadata": {},
     "output_type": "execute_result"
    }
   ],
   "source": [
    "list2=[1,3,5,\"ali\", \"true\",\"codanic\", 3.5]\n",
    "list2"
   ]
  },
  {
   "cell_type": "code",
   "execution_count": 34,
   "id": "78a4873f",
   "metadata": {},
   "outputs": [
    {
     "data": {
      "text/plain": [
       "[1, 3, 5, 'ali', 'true', 'codanic', 3.5]"
      ]
     },
     "execution_count": 34,
     "metadata": {},
     "output_type": "execute_result"
    }
   ],
   "source": [
    "list2"
   ]
  },
  {
   "cell_type": "code",
   "execution_count": 38,
   "id": "f6f17f0b",
   "metadata": {},
   "outputs": [
    {
     "data": {
      "text/plain": [
       "[1, 3, 5, 'ali', 'true', 'codanic', 3.5]"
      ]
     },
     "execution_count": 38,
     "metadata": {},
     "output_type": "execute_result"
    }
   ],
   "source": [
    "list2.reverse()\n",
    "list2\n",
    "list2.reverse()\n",
    "list2\n"
   ]
  },
  {
   "cell_type": "code",
   "execution_count": 39,
   "id": "c0726d93",
   "metadata": {},
   "outputs": [
    {
     "data": {
      "text/plain": [
       "[2, 3, 'list1']"
      ]
     },
     "execution_count": 39,
     "metadata": {},
     "output_type": "execute_result"
    }
   ],
   "source": [
    "list1\n"
   ]
  },
  {
   "cell_type": "code",
   "execution_count": 41,
   "id": "61b43494",
   "metadata": {},
   "outputs": [
    {
     "data": {
      "text/plain": [
       "[2, 3, 'list1']"
      ]
     },
     "execution_count": 41,
     "metadata": {},
     "output_type": "execute_result"
    }
   ],
   "source": [
    "list1.reverse()\n",
    "list1\n"
   ]
  },
  {
   "cell_type": "code",
   "execution_count": 43,
   "id": "ddb3dcf4",
   "metadata": {},
   "outputs": [
    {
     "data": {
      "text/plain": [
       "[2, 3, 'list1']"
      ]
     },
     "execution_count": 43,
     "metadata": {},
     "output_type": "execute_result"
    }
   ],
   "source": [
    "list1"
   ]
  },
  {
   "cell_type": "code",
   "execution_count": 44,
   "id": "1d69fd35",
   "metadata": {},
   "outputs": [],
   "source": [
    "list1.reverse()"
   ]
  },
  {
   "cell_type": "code",
   "execution_count": 45,
   "id": "405b38c8",
   "metadata": {},
   "outputs": [
    {
     "data": {
      "text/plain": [
       "['list1', 3, 2]"
      ]
     },
     "execution_count": 45,
     "metadata": {},
     "output_type": "execute_result"
    }
   ],
   "source": [
    "list1\n"
   ]
  },
  {
   "cell_type": "code",
   "execution_count": 46,
   "id": "3b687bed",
   "metadata": {},
   "outputs": [
    {
     "ename": "TypeError",
     "evalue": "'<' not supported between instances of 'int' and 'str'",
     "output_type": "error",
     "traceback": [
      "\u001b[1;31m---------------------------------------------------------------------------\u001b[0m",
      "\u001b[1;31mTypeError\u001b[0m                                 Traceback (most recent call last)",
      "\u001b[1;32m~\\AppData\\Local\\Temp\\ipykernel_18388\\1034687569.py\u001b[0m in \u001b[0;36m<module>\u001b[1;34m\u001b[0m\n\u001b[1;32m----> 1\u001b[1;33m \u001b[0mlist1\u001b[0m\u001b[1;33m.\u001b[0m\u001b[0msort\u001b[0m\u001b[1;33m(\u001b[0m\u001b[1;33m)\u001b[0m\u001b[1;33m\u001b[0m\u001b[1;33m\u001b[0m\u001b[0m\n\u001b[0m",
      "\u001b[1;31mTypeError\u001b[0m: '<' not supported between instances of 'int' and 'str'"
     ]
    }
   ],
   "source": [
    "list1.sort()"
   ]
  },
  {
   "cell_type": "code",
   "execution_count": 50,
   "id": "8be217a2",
   "metadata": {},
   "outputs": [
    {
     "data": {
      "text/plain": [
       "[2, 3, 1, 9]"
      ]
     },
     "execution_count": 50,
     "metadata": {},
     "output_type": "execute_result"
    }
   ],
   "source": [
    "list1=[2,3,1,9]\n",
    "list1"
   ]
  },
  {
   "cell_type": "code",
   "execution_count": 51,
   "id": "7a6da2c5",
   "metadata": {},
   "outputs": [],
   "source": [
    "list1.sort()\n"
   ]
  },
  {
   "cell_type": "code",
   "execution_count": 52,
   "id": "1171d03c",
   "metadata": {},
   "outputs": [
    {
     "data": {
      "text/plain": [
       "[1, 2, 3, 9]"
      ]
     },
     "execution_count": 52,
     "metadata": {},
     "output_type": "execute_result"
    }
   ],
   "source": [
    "list1"
   ]
  },
  {
   "cell_type": "code",
   "execution_count": 54,
   "id": "c4dc3644",
   "metadata": {},
   "outputs": [
    {
     "data": {
      "text/plain": [
       "[1, 3, 9]"
      ]
     },
     "execution_count": 54,
     "metadata": {},
     "output_type": "execute_result"
    }
   ],
   "source": [
    "list1.remove(2)\n",
    "list1"
   ]
  },
  {
   "cell_type": "code",
   "execution_count": 56,
   "id": "02209afb",
   "metadata": {},
   "outputs": [
    {
     "data": {
      "text/plain": [
       "9"
      ]
     },
     "execution_count": 56,
     "metadata": {},
     "output_type": "execute_result"
    }
   ],
   "source": [
    "list1.pop(2)"
   ]
  },
  {
   "cell_type": "code",
   "execution_count": 57,
   "id": "7f9e6cb5",
   "metadata": {},
   "outputs": [
    {
     "data": {
      "text/plain": [
       "9"
      ]
     },
     "execution_count": 57,
     "metadata": {},
     "output_type": "execute_result"
    }
   ],
   "source": [
    "list1=[5,1,3,9,87]\n",
    "list1.pop(3)"
   ]
  },
  {
   "cell_type": "code",
   "execution_count": 60,
   "id": "e078e17c",
   "metadata": {},
   "outputs": [],
   "source": [
    "list1.insert(9,99)"
   ]
  },
  {
   "cell_type": "code",
   "execution_count": 61,
   "id": "5a908579",
   "metadata": {},
   "outputs": [
    {
     "data": {
      "text/plain": [
       "[5, 1, 3, 87, 99]"
      ]
     },
     "execution_count": 61,
     "metadata": {},
     "output_type": "execute_result"
    }
   ],
   "source": [
    "list1"
   ]
  },
  {
   "cell_type": "code",
   "execution_count": 65,
   "id": "bca7c125",
   "metadata": {},
   "outputs": [
    {
     "data": {
      "text/plain": [
       "[5, 1, 3, 87, 99, '3', '3', '3', '3']"
      ]
     },
     "execution_count": 65,
     "metadata": {},
     "output_type": "execute_result"
    }
   ],
   "source": [
    "list1.extend('33')\n",
    "list1"
   ]
  },
  {
   "cell_type": "code",
   "execution_count": 66,
   "id": "6efecb80",
   "metadata": {},
   "outputs": [
    {
     "data": {
      "text/plain": [
       "1"
      ]
     },
     "execution_count": 66,
     "metadata": {},
     "output_type": "execute_result"
    }
   ],
   "source": [
    "list1.count(3)"
   ]
  },
  {
   "cell_type": "code",
   "execution_count": 67,
   "id": "d989409b",
   "metadata": {},
   "outputs": [
    {
     "data": {
      "text/plain": [
       "[5, 1, 3, 87, 99, '3', '3', '3', '3']"
      ]
     },
     "execution_count": 67,
     "metadata": {},
     "output_type": "execute_result"
    }
   ],
   "source": [
    "list1"
   ]
  },
  {
   "cell_type": "code",
   "execution_count": 68,
   "id": "87f16f20",
   "metadata": {},
   "outputs": [
    {
     "data": {
      "text/plain": [
       "1"
      ]
     },
     "execution_count": 68,
     "metadata": {},
     "output_type": "execute_result"
    }
   ],
   "source": [
    "list1.count(87)"
   ]
  },
  {
   "cell_type": "code",
   "execution_count": 69,
   "id": "f5b8c993",
   "metadata": {},
   "outputs": [
    {
     "data": {
      "text/plain": [
       "1"
      ]
     },
     "execution_count": 69,
     "metadata": {},
     "output_type": "execute_result"
    }
   ],
   "source": [
    "list1.count(3)"
   ]
  },
  {
   "cell_type": "code",
   "execution_count": 70,
   "id": "737dbbf2",
   "metadata": {},
   "outputs": [
    {
     "data": {
      "text/plain": [
       "4"
      ]
     },
     "execution_count": 70,
     "metadata": {},
     "output_type": "execute_result"
    }
   ],
   "source": [
    "list1.count('3')"
   ]
  },
  {
   "cell_type": "code",
   "execution_count": 73,
   "id": "fac89323",
   "metadata": {},
   "outputs": [
    {
     "data": {
      "text/plain": [
       "[0, 1, 2, 3, 5, 6, 7, 15, 22, 99]"
      ]
     },
     "execution_count": 73,
     "metadata": {},
     "output_type": "execute_result"
    }
   ],
   "source": [
    "list3=[1,2,3,5,7,99,0,6,22,15]\n",
    "list3\n",
    "list3.sort()\n",
    "list3"
   ]
  },
  {
   "cell_type": "code",
   "execution_count": 74,
   "id": "1688577d",
   "metadata": {},
   "outputs": [
    {
     "data": {
      "text/plain": [
       "[5,\n",
       " 1,\n",
       " 3,\n",
       " 87,\n",
       " 99,\n",
       " '3',\n",
       " '3',\n",
       " '3',\n",
       " '3',\n",
       " 1,\n",
       " 3,\n",
       " 5,\n",
       " 'ali',\n",
       " 'true',\n",
       " 'codanic',\n",
       " 3.5,\n",
       " 0,\n",
       " 1,\n",
       " 2,\n",
       " 3,\n",
       " 5,\n",
       " 6,\n",
       " 7,\n",
       " 15,\n",
       " 22,\n",
       " 99]"
      ]
     },
     "execution_count": 74,
     "metadata": {},
     "output_type": "execute_result"
    }
   ],
   "source": [
    "list4=list1+list2+list3\n",
    "list4"
   ]
  },
  {
   "cell_type": "markdown",
   "id": "8c47f83c",
   "metadata": {},
   "source": [
    "## Dictionary \n",
    "-dataset type of data\n",
    "-unorderd collection of elements\n",
    "-curly/saqure braket can be used\n",
    "-key & value\n",
    "-mutateable or you can change values\n",
    "-cant cancatenate by +"
   ]
  },
  {
   "cell_type": "code",
   "execution_count": 75,
   "id": "acd88a25",
   "metadata": {},
   "outputs": [
    {
     "data": {
      "text/plain": [
       "{'samosa': 23, 'pakora': 100, 'rolls': 30, 'macronies': 100}"
      ]
     },
     "execution_count": 75,
     "metadata": {},
     "output_type": "execute_result"
    }
   ],
   "source": [
    "#food and their prices\n",
    "d1={\"samosa\":23, \"pakora\":100,\"rolls\":30,\"macronies\":100}\n",
    "d1"
   ]
  },
  {
   "cell_type": "code",
   "execution_count": 77,
   "id": "02a70ee2",
   "metadata": {},
   "outputs": [
    {
     "data": {
      "text/plain": [
       "dict_keys(['samosa', 'pakora', 'rolls', 'macronies'])"
      ]
     },
     "execution_count": 77,
     "metadata": {},
     "output_type": "execute_result"
    }
   ],
   "source": [
    "#extracting keys and values\n",
    "food_keys=d1.keys()\n",
    "food_keys"
   ]
  },
  {
   "cell_type": "code",
   "execution_count": 78,
   "id": "8ac8d778",
   "metadata": {},
   "outputs": [
    {
     "data": {
      "text/plain": [
       "dict_values([23, 100, 30, 100])"
      ]
     },
     "execution_count": 78,
     "metadata": {},
     "output_type": "execute_result"
    }
   ],
   "source": [
    "food_value=d1.values()\n",
    "food_value"
   ]
  },
  {
   "cell_type": "code",
   "execution_count": 90,
   "id": "bbd4e9d9",
   "metadata": {
    "scrolled": true
   },
   "outputs": [
    {
     "data": {
      "text/plain": [
       "{'samosa': 23, 'pakora': 100, 'rolls': 30, 'macronies': 100, 'roti': 22}"
      ]
     },
     "execution_count": 90,
     "metadata": {},
     "output_type": "execute_result"
    }
   ],
   "source": [
    "#updating values dictionary\n",
    "d1[\"roti\"]=22\n",
    "d1"
   ]
  },
  {
   "cell_type": "code",
   "execution_count": 95,
   "id": "a4756c44",
   "metadata": {},
   "outputs": [
    {
     "data": {
      "text/plain": [
       "{'samosa': 23,\n",
       " 'pakora': 100,\n",
       " 'rolls': 30,\n",
       " 'macronies': 100,\n",
       " 'roti': 22,\n",
       " 'rotti': 25}"
      ]
     },
     "execution_count": 95,
     "metadata": {},
     "output_type": "execute_result"
    }
   ],
   "source": [
    "d1.update({\"rotti\":25})\n",
    "d1"
   ]
  },
  {
   "cell_type": "code",
   "execution_count": 98,
   "id": "968e896e",
   "metadata": {},
   "outputs": [
    {
     "data": {
      "text/plain": [
       "{'samosa': 23,\n",
       " 'pakora': 100,\n",
       " 'rolls': 30,\n",
       " 'macronies': 100,\n",
       " 'roti': 22,\n",
       " 'rotti': 25,\n",
       " 'alo': 34,\n",
       " 'ghoshat': 500}"
      ]
     },
     "execution_count": 98,
     "metadata": {},
     "output_type": "execute_result"
    }
   ],
   "source": [
    "d2={\"alo\":34,\"ghoshat\":500 }\n",
    "d1.update(d2)\n",
    "d1"
   ]
  },
  {
   "cell_type": "markdown",
   "id": "92a548ef",
   "metadata": {},
   "source": [
    "## set\n",
    "-Unordered & unindexed\n",
    "-culry braces are used to initilaze\n",
    "-no duplicates\n",
    "-cant add boolean  variable"
   ]
  },
  {
   "cell_type": "code",
   "execution_count": 99,
   "id": "30050b99",
   "metadata": {},
   "outputs": [
    {
     "data": {
      "text/plain": [
       "{0, 3, 54, 90, 'city', 'food'}"
      ]
     },
     "execution_count": 99,
     "metadata": {},
     "output_type": "execute_result"
    }
   ],
   "source": [
    "s1={3,'food',90,54,0,'city'}\n",
    "s1"
   ]
  },
  {
   "cell_type": "code",
   "execution_count": 127,
   "id": "d9a10bdb",
   "metadata": {},
   "outputs": [
    {
     "data": {
      "text/plain": [
       "{'101', '2', '7', 'city', 'food'}"
      ]
     },
     "execution_count": 127,
     "metadata": {},
     "output_type": "execute_result"
    }
   ],
   "source": [
    "s1.clear()\n",
    "s1\n",
    "s1={'2','7', '101','food','city'}\n",
    "s1"
   ]
  },
  {
   "cell_type": "code",
   "execution_count": 117,
   "id": "45fd5805",
   "metadata": {},
   "outputs": [
    {
     "data": {
      "text/plain": [
       "{0, 250, 290, 3, '5', 54, 600, '9', 90, 'city', 'food'}"
      ]
     },
     "execution_count": 117,
     "metadata": {},
     "output_type": "execute_result"
    }
   ],
   "source": [
    "s1.remove(\"2\")\n",
    "s1"
   ]
  },
  {
   "cell_type": "code",
   "execution_count": 118,
   "id": "523ee40c",
   "metadata": {},
   "outputs": [
    {
     "data": {
      "text/plain": [
       "set"
      ]
     },
     "execution_count": 118,
     "metadata": {},
     "output_type": "execute_result"
    }
   ],
   "source": [
    "type(s1)\n"
   ]
  },
  {
   "cell_type": "code",
   "execution_count": 121,
   "id": "0470ad54",
   "metadata": {},
   "outputs": [
    {
     "data": {
      "text/plain": [
       "{0,\n",
       " 250,\n",
       " 290,\n",
       " 3,\n",
       " '5',\n",
       " 54,\n",
       " 600,\n",
       " '9',\n",
       " 90,\n",
       " 'alo',\n",
       " 'city',\n",
       " 'food',\n",
       " 'ghoshat',\n",
       " 'macronies',\n",
       " 'pakora',\n",
       " 'rolls',\n",
       " 'roti',\n",
       " 'rotti',\n",
       " 'samosa'}"
      ]
     },
     "execution_count": 121,
     "metadata": {},
     "output_type": "execute_result"
    }
   ],
   "source": [
    "#union with dictionary only adds key values of dictionary and display, not add to actual set\n",
    "\n",
    "s1.union(d1)"
   ]
  },
  {
   "cell_type": "code",
   "execution_count": 122,
   "id": "f0995ed1",
   "metadata": {},
   "outputs": [],
   "source": [
    "s1.add('111')"
   ]
  },
  {
   "cell_type": "code",
   "execution_count": 123,
   "id": "1abc3541",
   "metadata": {},
   "outputs": [
    {
     "data": {
      "text/plain": [
       "{0, '111', 250, 290, 3, '5', 54, 600, '9', 90, 'city', 'food'}"
      ]
     },
     "execution_count": 123,
     "metadata": {},
     "output_type": "execute_result"
    }
   ],
   "source": [
    "s1"
   ]
  },
  {
   "cell_type": "code",
   "execution_count": 128,
   "id": "6d61c820",
   "metadata": {},
   "outputs": [
    {
     "data": {
      "text/plain": [
       "set()"
      ]
     },
     "execution_count": 128,
     "metadata": {},
     "output_type": "execute_result"
    }
   ],
   "source": [
    "s1.difference(s1)"
   ]
  },
  {
   "cell_type": "code",
   "execution_count": 129,
   "id": "a66d1366",
   "metadata": {},
   "outputs": [],
   "source": [
    "s1={1,0,6,9,7}"
   ]
  },
  {
   "cell_type": "code",
   "execution_count": 132,
   "id": "60bb559d",
   "metadata": {},
   "outputs": [
    {
     "data": {
      "text/plain": [
       "set()"
      ]
     },
     "execution_count": 132,
     "metadata": {},
     "output_type": "execute_result"
    }
   ],
   "source": [
    "s1.difference_update(s1)\n",
    "s1"
   ]
  },
  {
   "cell_type": "code",
   "execution_count": 134,
   "id": "9afcc068",
   "metadata": {},
   "outputs": [
    {
     "data": {
      "text/plain": [
       "{'9', '90', 'city', 'food'}"
      ]
     },
     "execution_count": 134,
     "metadata": {},
     "output_type": "execute_result"
    }
   ],
   "source": [
    "s2={3,5,7,8,'giki'}\n",
    "s1={'9', '90', 'city', 'food'}\n",
    "s1"
   ]
  },
  {
   "cell_type": "code",
   "execution_count": 135,
   "id": "1438d504",
   "metadata": {},
   "outputs": [
    {
     "data": {
      "text/plain": [
       "{3, 5, 7, 8, 'giki'}"
      ]
     },
     "execution_count": 135,
     "metadata": {},
     "output_type": "execute_result"
    }
   ],
   "source": [
    "s2"
   ]
  },
  {
   "cell_type": "code",
   "execution_count": 137,
   "id": "dfeaf83c",
   "metadata": {},
   "outputs": [],
   "source": [
    "s2.discard(5)"
   ]
  },
  {
   "cell_type": "code",
   "execution_count": 143,
   "id": "b0dd0212",
   "metadata": {},
   "outputs": [
    {
     "data": {
      "text/plain": [
       "{3, 7, 8, 'giki'}"
      ]
     },
     "execution_count": 143,
     "metadata": {},
     "output_type": "execute_result"
    }
   ],
   "source": [
    "s3=s2.copy()\n",
    "s3"
   ]
  },
  {
   "cell_type": "code",
   "execution_count": 144,
   "id": "ec917051",
   "metadata": {},
   "outputs": [
    {
     "data": {
      "text/plain": [
       "{3, 7, 8, 'giki'}"
      ]
     },
     "execution_count": 144,
     "metadata": {},
     "output_type": "execute_result"
    }
   ],
   "source": [
    "s3"
   ]
  },
  {
   "cell_type": "code",
   "execution_count": 146,
   "id": "09b3c3d7",
   "metadata": {},
   "outputs": [
    {
     "data": {
      "text/plain": [
       "set()"
      ]
     },
     "execution_count": 146,
     "metadata": {},
     "output_type": "execute_result"
    }
   ],
   "source": [
    "s3.intersection(s1)"
   ]
  },
  {
   "cell_type": "code",
   "execution_count": 148,
   "id": "88e8c100",
   "metadata": {},
   "outputs": [
    {
     "data": {
      "text/plain": [
       "{3, 7, 8, 'giki'}"
      ]
     },
     "execution_count": 148,
     "metadata": {},
     "output_type": "execute_result"
    }
   ],
   "source": [
    "s2.intersection_update()\n",
    "s2"
   ]
  },
  {
   "cell_type": "code",
   "execution_count": 149,
   "id": "f55df366",
   "metadata": {},
   "outputs": [
    {
     "data": {
      "text/plain": [
       "{'9', '90', 'city', 'food'}"
      ]
     },
     "execution_count": 149,
     "metadata": {},
     "output_type": "execute_result"
    }
   ],
   "source": [
    "s1"
   ]
  },
  {
   "cell_type": "code",
   "execution_count": 150,
   "id": "d3c4afde",
   "metadata": {},
   "outputs": [
    {
     "data": {
      "text/plain": [
       "{3, 7, 8, 'giki'}"
      ]
     },
     "execution_count": 150,
     "metadata": {},
     "output_type": "execute_result"
    }
   ],
   "source": [
    "s2"
   ]
  },
  {
   "cell_type": "code",
   "execution_count": 153,
   "id": "a00156fb",
   "metadata": {},
   "outputs": [
    {
     "data": {
      "text/plain": [
       "{3, 5, 7, 8, 'city', 'giki'}"
      ]
     },
     "execution_count": 153,
     "metadata": {},
     "output_type": "execute_result"
    }
   ],
   "source": [
    "s3.update({7,5,\"city\"})\n",
    "s3"
   ]
  },
  {
   "cell_type": "code",
   "execution_count": 155,
   "id": "25e104cf",
   "metadata": {},
   "outputs": [
    {
     "data": {
      "text/plain": [
       "{3, 5, 7, 8, 'city', 'giki'}"
      ]
     },
     "execution_count": 155,
     "metadata": {},
     "output_type": "execute_result"
    }
   ],
   "source": [
    "s1.difference(s3)\n",
    "s3"
   ]
  },
  {
   "cell_type": "code",
   "execution_count": 157,
   "id": "2a417dbc",
   "metadata": {},
   "outputs": [
    {
     "data": {
      "text/plain": [
       "{'9', '90', 'city', 'food'}"
      ]
     },
     "execution_count": 157,
     "metadata": {},
     "output_type": "execute_result"
    }
   ],
   "source": [
    "s1.difference_update(s2)\n",
    "s1"
   ]
  },
  {
   "cell_type": "code",
   "execution_count": 163,
   "id": "83edad44",
   "metadata": {},
   "outputs": [
    {
     "data": {
      "text/plain": [
       "{'9', '90', 'food'}"
      ]
     },
     "execution_count": 163,
     "metadata": {},
     "output_type": "execute_result"
    }
   ],
   "source": [
    "s1.difference(s3)\n",
    "s1\n",
    "s1.difference_update(s3)\n",
    "s1"
   ]
  }
 ],
 "metadata": {
  "kernelspec": {
   "display_name": "Python 3 (ipykernel)",
   "language": "python",
   "name": "python3"
  },
  "language_info": {
   "codemirror_mode": {
    "name": "ipython",
    "version": 3
   },
   "file_extension": ".py",
   "mimetype": "text/x-python",
   "name": "python",
   "nbconvert_exporter": "python",
   "pygments_lexer": "ipython3",
   "version": "3.9.13"
  }
 },
 "nbformat": 4,
 "nbformat_minor": 5
}
